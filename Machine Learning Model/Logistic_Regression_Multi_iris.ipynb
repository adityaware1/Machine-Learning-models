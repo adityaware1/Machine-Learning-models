{
 "cells": [
  {
   "cell_type": "code",
   "execution_count": 5,
   "metadata": {
    "executionInfo": {
     "elapsed": 1035,
     "status": "ok",
     "timestamp": 1639384948734,
     "user": {
      "displayName": "Soham Shinde",
      "photoUrl": "https://lh3.googleusercontent.com/a-/AOh14Gjp2-AFC4Bku5hWXXa7gtTdvsjnBYU2nS7JI5VB=s64",
      "userId": "11067531772103742328"
     },
     "user_tz": -330
    },
    "id": "aN6Cuy1Kt8wy"
   },
   "outputs": [],
   "source": [
    "import matplotlib.pyplot as plt\n",
    "from sklearn.datasets import load_iris\n",
    "iris = load_iris()"
   ]
  },
  {
   "cell_type": "code",
   "execution_count": 6,
   "metadata": {
    "colab": {
     "base_uri": "https://localhost:8080/"
    },
    "executionInfo": {
     "elapsed": 374,
     "status": "ok",
     "timestamp": 1639384960490,
     "user": {
      "displayName": "Soham Shinde",
      "photoUrl": "https://lh3.googleusercontent.com/a-/AOh14Gjp2-AFC4Bku5hWXXa7gtTdvsjnBYU2nS7JI5VB=s64",
      "userId": "11067531772103742328"
     },
     "user_tz": -330
    },
    "id": "AmpLuTxO88nw",
    "outputId": "279497ab-13b8-4a40-e31d-f7c5ea349734"
   },
   "outputs": [
    {
     "data": {
      "text/plain": [
       "['DESCR',\n",
       " 'data',\n",
       " 'data_module',\n",
       " 'feature_names',\n",
       " 'filename',\n",
       " 'frame',\n",
       " 'target',\n",
       " 'target_names']"
      ]
     },
     "execution_count": 6,
     "metadata": {},
     "output_type": "execute_result"
    }
   ],
   "source": [
    "dir(iris)"
   ]
  },
  {
   "cell_type": "code",
   "execution_count": 34,
   "metadata": {
    "colab": {
     "base_uri": "https://localhost:8080/"
    },
    "executionInfo": {
     "elapsed": 365,
     "status": "ok",
     "timestamp": 1639385659478,
     "user": {
      "displayName": "Soham Shinde",
      "photoUrl": "https://lh3.googleusercontent.com/a-/AOh14Gjp2-AFC4Bku5hWXXa7gtTdvsjnBYU2nS7JI5VB=s64",
      "userId": "11067531772103742328"
     },
     "user_tz": -330
    },
    "id": "xeg8Z8jT9WIK",
    "outputId": "edd44344-c445-4c3a-8bc0-6ee10733c12b"
   },
   "outputs": [
    {
     "name": "stdout",
     "output_type": "stream",
     "text": [
      "[5.1, 3.5, 1.4, 0.2]\n",
      "[4.9, 3.0, 1.4, 0.2]\n",
      "[4.7, 3.2, 1.3, 0.2]\n",
      "[4.6, 3.1, 1.5, 0.2]\n",
      "[5.0, 3.6, 1.4, 0.2]\n",
      "[5.4, 3.9, 1.7, 0.4]\n",
      "[4.6, 3.4, 1.4, 0.3]\n",
      "[5.0, 3.4, 1.5, 0.2]\n",
      "[4.4, 2.9, 1.4, 0.2]\n",
      "[4.9, 3.1, 1.5, 0.1]\n"
     ]
    }
   ],
   "source": [
    "for i in range(10):\n",
    "  print(list(iris.data[i]))\n",
    " "
   ]
  },
  {
   "cell_type": "code",
   "execution_count": 20,
   "metadata": {
    "colab": {
     "base_uri": "https://localhost:8080/"
    },
    "executionInfo": {
     "elapsed": 396,
     "status": "ok",
     "timestamp": 1639385347519,
     "user": {
      "displayName": "Soham Shinde",
      "photoUrl": "https://lh3.googleusercontent.com/a-/AOh14Gjp2-AFC4Bku5hWXXa7gtTdvsjnBYU2nS7JI5VB=s64",
      "userId": "11067531772103742328"
     },
     "user_tz": -330
    },
    "id": "DkgZCnL_-pN5",
    "outputId": "2809118f-bfd0-4fbd-95ee-a897d99ea5af"
   },
   "outputs": [
    {
     "data": {
      "text/plain": [
       "['sepal length (cm)',\n",
       " 'sepal width (cm)',\n",
       " 'petal length (cm)',\n",
       " 'petal width (cm)']"
      ]
     },
     "execution_count": 20,
     "metadata": {},
     "output_type": "execute_result"
    }
   ],
   "source": [
    "list(iris.feature_names)"
   ]
  },
  {
   "cell_type": "code",
   "execution_count": null,
   "metadata": {
    "id": "IGuKNz0aA1ua"
   },
   "outputs": [],
   "source": [
    "list(iris.target)"
   ]
  },
  {
   "cell_type": "code",
   "execution_count": 79,
   "metadata": {
    "executionInfo": {
     "elapsed": 403,
     "status": "ok",
     "timestamp": 1639387023480,
     "user": {
      "displayName": "Soham Shinde",
      "photoUrl": "https://lh3.googleusercontent.com/a-/AOh14Gjp2-AFC4Bku5hWXXa7gtTdvsjnBYU2nS7JI5VB=s64",
      "userId": "11067531772103742328"
     },
     "user_tz": -330
    },
    "id": "85087ygz_vtv"
   },
   "outputs": [],
   "source": [
    "from sklearn.model_selection import train_test_split\n",
    "X_train , X_test, Y_train, Y_test = train_test_split(iris.data, iris.target, test_size = 0.4)"
   ]
  },
  {
   "cell_type": "code",
   "execution_count": 80,
   "metadata": {
    "colab": {
     "base_uri": "https://localhost:8080/"
    },
    "executionInfo": {
     "elapsed": 898,
     "status": "ok",
     "timestamp": 1639387030379,
     "user": {
      "displayName": "Soham Shinde",
      "photoUrl": "https://lh3.googleusercontent.com/a-/AOh14Gjp2-AFC4Bku5hWXXa7gtTdvsjnBYU2nS7JI5VB=s64",
      "userId": "11067531772103742328"
     },
     "user_tz": -330
    },
    "id": "uWtOlrDNBcoO",
    "outputId": "62ebccd9-fe60-40e4-e9fe-7d813dc97c95"
   },
   "outputs": [
    {
     "data": {
      "text/plain": [
       "90"
      ]
     },
     "execution_count": 80,
     "metadata": {},
     "output_type": "execute_result"
    }
   ],
   "source": [
    "len(Y_train)"
   ]
  },
  {
   "cell_type": "code",
   "execution_count": 81,
   "metadata": {
    "executionInfo": {
     "elapsed": 11,
     "status": "ok",
     "timestamp": 1639387030380,
     "user": {
      "displayName": "Soham Shinde",
      "photoUrl": "https://lh3.googleusercontent.com/a-/AOh14Gjp2-AFC4Bku5hWXXa7gtTdvsjnBYU2nS7JI5VB=s64",
      "userId": "11067531772103742328"
     },
     "user_tz": -330
    },
    "id": "sPUeaEniAKo6"
   },
   "outputs": [],
   "source": [
    "from sklearn.linear_model import LogisticRegression\n",
    "lreg = LogisticRegression()"
   ]
  },
  {
   "cell_type": "code",
   "execution_count": 82,
   "metadata": {
    "colab": {
     "base_uri": "https://localhost:8080/"
    },
    "executionInfo": {
     "elapsed": 11,
     "status": "ok",
     "timestamp": 1639387030380,
     "user": {
      "displayName": "Soham Shinde",
      "photoUrl": "https://lh3.googleusercontent.com/a-/AOh14Gjp2-AFC4Bku5hWXXa7gtTdvsjnBYU2nS7JI5VB=s64",
      "userId": "11067531772103742328"
     },
     "user_tz": -330
    },
    "id": "RmAGszBVBSLI",
    "outputId": "7d4c3fa0-1454-45b6-9f99-ddf6d4111777"
   },
   "outputs": [
    {
     "data": {
      "text/plain": [
       "LogisticRegression()"
      ]
     },
     "execution_count": 82,
     "metadata": {},
     "output_type": "execute_result"
    }
   ],
   "source": [
    "lreg.fit(X_train,Y_train)"
   ]
  },
  {
   "cell_type": "code",
   "execution_count": 103,
   "metadata": {
    "colab": {
     "base_uri": "https://localhost:8080/"
    },
    "executionInfo": {
     "elapsed": 451,
     "status": "ok",
     "timestamp": 1639387979506,
     "user": {
      "displayName": "Soham Shinde",
      "photoUrl": "https://lh3.googleusercontent.com/a-/AOh14Gjp2-AFC4Bku5hWXXa7gtTdvsjnBYU2nS7JI5VB=s64",
      "userId": "11067531772103742328"
     },
     "user_tz": -330
    },
    "id": "pWb-_oU7BjEh",
    "outputId": "7f478d92-73a0-4551-c175-806888635af7"
   },
   "outputs": [
    {
     "name": "stdout",
     "output_type": "stream",
     "text": [
      "The accuracy of this ML model is 95.0 %.\n"
     ]
    }
   ],
   "source": [
    "print(\"The accuracy of this ML model is {} %.\".format(lreg.score(X_test, Y_test)*100))"
   ]
  },
  {
   "cell_type": "code",
   "execution_count": 84,
   "metadata": {
    "colab": {
     "base_uri": "https://localhost:8080/"
    },
    "executionInfo": {
     "elapsed": 9,
     "status": "ok",
     "timestamp": 1639387030381,
     "user": {
      "displayName": "Soham Shinde",
      "photoUrl": "https://lh3.googleusercontent.com/a-/AOh14Gjp2-AFC4Bku5hWXXa7gtTdvsjnBYU2nS7JI5VB=s64",
      "userId": "11067531772103742328"
     },
     "user_tz": -330
    },
    "id": "E1sjfFfoBv0H",
    "outputId": "a572d374-7986-4c4b-9799-64cab3da3868"
   },
   "outputs": [
    {
     "data": {
      "text/plain": [
       "array([1])"
      ]
     },
     "execution_count": 84,
     "metadata": {},
     "output_type": "execute_result"
    }
   ],
   "source": [
    "lreg.predict([iris.data[88]])"
   ]
  },
  {
   "cell_type": "code",
   "execution_count": 85,
   "metadata": {
    "colab": {
     "base_uri": "https://localhost:8080/"
    },
    "executionInfo": {
     "elapsed": 405,
     "status": "ok",
     "timestamp": 1639387031381,
     "user": {
      "displayName": "Soham Shinde",
      "photoUrl": "https://lh3.googleusercontent.com/a-/AOh14Gjp2-AFC4Bku5hWXXa7gtTdvsjnBYU2nS7JI5VB=s64",
      "userId": "11067531772103742328"
     },
     "user_tz": -330
    },
    "id": "qZlyfKRnCTb_",
    "outputId": "c273275a-c7bc-4d51-928e-2ac5ba3dd4cb"
   },
   "outputs": [
    {
     "data": {
      "text/plain": [
       "array([[17,  0,  0],\n",
       "       [ 0, 24,  2],\n",
       "       [ 0,  1, 16]])"
      ]
     },
     "execution_count": 85,
     "metadata": {},
     "output_type": "execute_result"
    }
   ],
   "source": [
    "from sklearn.metrics import confusion_matrix\n",
    "Y_predicted = lreg.predict(X_test)\n",
    "confm = confusion_matrix(Y_test, Y_predicted)\n",
    "confm"
   ]
  },
  {
   "cell_type": "code",
   "execution_count": 91,
   "metadata": {
    "colab": {
     "base_uri": "https://localhost:8080/",
     "height": 351
    },
    "executionInfo": {
     "elapsed": 440,
     "status": "ok",
     "timestamp": 1639387264152,
     "user": {
      "displayName": "Soham Shinde",
      "photoUrl": "https://lh3.googleusercontent.com/a-/AOh14Gjp2-AFC4Bku5hWXXa7gtTdvsjnBYU2nS7JI5VB=s64",
      "userId": "11067531772103742328"
     },
     "user_tz": -330
    },
    "id": "FEwRDMa9CqKv",
    "outputId": "0c60a30e-e30d-495c-e230-7abfb411e0f2"
   },
   "outputs": [
    {
     "data": {
      "text/plain": [
       "Text(24.0, 0.5, 'truth')"
      ]
     },
     "execution_count": 91,
     "metadata": {},
     "output_type": "execute_result"
    },
    {
     "data": {
      "image/png": "[encoded data removed]",
      "text/plain": [
       "<Figure size 360x360 with 2 Axes>"
      ]
     },
     "metadata": {
      "needs_background": "light"
     },
     "output_type": "display_data"
    }
   ],
   "source": [
    "import seaborn as sn\n",
    "plt.figure(figsize=(5,5))\n",
    "sn.heatmap(confm, annot= True)\n",
    "plt.xlabel(\"predicted\")\n",
    "plt.ylabel(\"truth\")"
   ]
  },
  {
   "cell_type": "code",
   "execution_count": 101,
   "metadata": {
    "executionInfo": {
     "elapsed": 424,
     "status": "ok",
     "timestamp": 1639387786947,
     "user": {
      "displayName": "Soham Shinde",
      "photoUrl": "https://lh3.googleusercontent.com/a-/AOh14Gjp2-AFC4Bku5hWXXa7gtTdvsjnBYU2nS7JI5VB=s64",
      "userId": "11067531772103742328"
     },
     "user_tz": -330
    },
    "id": "u4qRx27DHAtB"
   },
   "outputs": [],
   "source": [
    "import pickle\n",
    "with open(\"iris_flower\", \"wb\") as i :\n",
    " pickle.dump(lreg, i)"
   ]
  },
  {
   "cell_type": "code",
   "execution_count": 100,
   "metadata": {
    "executionInfo": {
     "elapsed": 363,
     "status": "ok",
     "timestamp": 1639387784535,
     "user": {
      "displayName": "Soham Shinde",
      "photoUrl": "https://lh3.googleusercontent.com/a-/AOh14Gjp2-AFC4Bku5hWXXa7gtTdvsjnBYU2nS7JI5VB=s64",
      "userId": "11067531772103742328"
     },
     "user_tz": -330
    },
    "id": "UvRg_WTLHlVt"
   },
   "outputs": [],
   "source": [
    "with open(\"iris_flower\", \"rb\") as i :\n",
    " ip = pickle.load(i)"
   ]
  }
 ],
 "metadata": {
  "colab": {
   "authorship_tag": "ABX9TyOL4pnQOkjQ5ltduouOy57E",
   "name": "Logistic_Regression_Multi.ipynb",
   "provenance": []
  },
  "kernelspec": {
   "display_name": "Python 3 (ipykernel)",
   "language": "python",
   "name": "python3"
  },
  "language_info": {
   "codemirror_mode": {
    "name": "ipython",
    "version": 3
   },
   "file_extension": ".py",
   "mimetype": "text/x-python",
   "name": "python",
   "nbconvert_exporter": "python",
   "pygments_lexer": "ipython3",
   "version": "3.9.7"
  }
 },
 "nbformat": 4,
 "nbformat_minor": 1
}
